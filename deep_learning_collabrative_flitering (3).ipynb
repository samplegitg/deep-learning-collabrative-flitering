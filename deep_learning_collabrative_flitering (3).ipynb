{
  "nbformat": 4,
  "nbformat_minor": 0,
  "metadata": {
    "colab": {
      "provenance": []
    },
    "kernelspec": {
      "name": "python3",
      "display_name": "Python 3"
    },
    "language_info": {
      "name": "python"
    }
  },
  "cells": [
    {
      "cell_type": "code",
      "execution_count": 1,
      "metadata": {
        "id": "L4jUeZFqEbEZ"
      },
      "outputs": [],
      "source": [
        "import tensorflow as tf\n",
        "from tensorflow.keras.layers import Input, Embedding, Flatten, Dense, Concatenate, Dropout\n",
        "from tensorflow.keras.models import Model\n",
        "from tensorflow.keras.regularizers import l2\n",
        "from tensorflow.keras.optimizers import Adam\n",
        "from sklearn.model_selection import train_test_split\n",
        "import numpy as np"
      ]
    },
    {
      "cell_type": "code",
      "source": [
        "!unzip archive.zip\n"
      ],
      "metadata": {
        "id": "gj7s660SEdsF",
        "colab": {
          "base_uri": "https://localhost:8080/"
        },
        "outputId": "f689f1ff-8ce2-4ce6-ef4e-f4538990516a"
      },
      "execution_count": 2,
      "outputs": [
        {
          "output_type": "stream",
          "name": "stdout",
          "text": [
            "Archive:  archive.zip\n",
            "  inflating: README.txt              \n",
            "  inflating: links.csv               \n",
            "  inflating: movies.csv              \n",
            "  inflating: ratings.csv             \n",
            "  inflating: tags.csv                \n"
          ]
        }
      ]
    },
    {
      "cell_type": "code",
      "source": [
        "import zipfile\n",
        "import io\n",
        "import pandas as pd\n",
        "\n",
        "# Specify the uploaded zip file name\n",
        "zip_file_name = 'archive.zip'\n",
        "\n",
        "# Read a specific file from the zip without extracting\n",
        "with zipfile.ZipFile(zip_file_name, 'r') as zip_ref:\n",
        "    # Assuming 'example.csv' is the file you want to read\n",
        "    csv_file_name = 'ratings.csv'\n",
        "\n",
        "    # Read the CSV file into a DataFrame\n",
        "    with zip_ref.open(csv_file_name) as file:\n",
        "        df = pd.read_csv(file)\n",
        "\n",
        "# Display the first few rows of the DataFrame\n",
        "print(df.head())\n"
      ],
      "metadata": {
        "colab": {
          "base_uri": "https://localhost:8080/"
        },
        "id": "P6zAU9v7Pabp",
        "outputId": "98b65869-cf6f-45e8-c8ce-9acb4894d466"
      },
      "execution_count": 3,
      "outputs": [
        {
          "output_type": "stream",
          "name": "stdout",
          "text": [
            "   userId  movieId  rating  timestamp\n",
            "0       1        1     4.0  964982703\n",
            "1       1        3     4.0  964981247\n",
            "2       1        6     4.0  964982224\n",
            "3       1       47     5.0  964983815\n",
            "4       1       50     5.0  964982931\n"
          ]
        }
      ]
    },
    {
      "cell_type": "code",
      "source": [
        "df.head()"
      ],
      "metadata": {
        "colab": {
          "base_uri": "https://localhost:8080/",
          "height": 206
        },
        "id": "OEHVtdb4fkEg",
        "outputId": "f406b13d-7b9d-4f2c-f9df-b19f4eb68108"
      },
      "execution_count": 10,
      "outputs": [
        {
          "output_type": "execute_result",
          "data": {
            "text/plain": [
              "   userId  movieId  rating  timestamp\n",
              "0       1        1     4.0  964982703\n",
              "1       1        3     4.0  964981247\n",
              "2       1        6     4.0  964982224\n",
              "3       1       47     5.0  964983815\n",
              "4       1       50     5.0  964982931"
            ],
            "text/html": [
              "\n",
              "  <div id=\"df-cd647289-00f7-4478-b5b6-4c97747ae746\" class=\"colab-df-container\">\n",
              "    <div>\n",
              "<style scoped>\n",
              "    .dataframe tbody tr th:only-of-type {\n",
              "        vertical-align: middle;\n",
              "    }\n",
              "\n",
              "    .dataframe tbody tr th {\n",
              "        vertical-align: top;\n",
              "    }\n",
              "\n",
              "    .dataframe thead th {\n",
              "        text-align: right;\n",
              "    }\n",
              "</style>\n",
              "<table border=\"1\" class=\"dataframe\">\n",
              "  <thead>\n",
              "    <tr style=\"text-align: right;\">\n",
              "      <th></th>\n",
              "      <th>userId</th>\n",
              "      <th>movieId</th>\n",
              "      <th>rating</th>\n",
              "      <th>timestamp</th>\n",
              "    </tr>\n",
              "  </thead>\n",
              "  <tbody>\n",
              "    <tr>\n",
              "      <th>0</th>\n",
              "      <td>1</td>\n",
              "      <td>1</td>\n",
              "      <td>4.0</td>\n",
              "      <td>964982703</td>\n",
              "    </tr>\n",
              "    <tr>\n",
              "      <th>1</th>\n",
              "      <td>1</td>\n",
              "      <td>3</td>\n",
              "      <td>4.0</td>\n",
              "      <td>964981247</td>\n",
              "    </tr>\n",
              "    <tr>\n",
              "      <th>2</th>\n",
              "      <td>1</td>\n",
              "      <td>6</td>\n",
              "      <td>4.0</td>\n",
              "      <td>964982224</td>\n",
              "    </tr>\n",
              "    <tr>\n",
              "      <th>3</th>\n",
              "      <td>1</td>\n",
              "      <td>47</td>\n",
              "      <td>5.0</td>\n",
              "      <td>964983815</td>\n",
              "    </tr>\n",
              "    <tr>\n",
              "      <th>4</th>\n",
              "      <td>1</td>\n",
              "      <td>50</td>\n",
              "      <td>5.0</td>\n",
              "      <td>964982931</td>\n",
              "    </tr>\n",
              "  </tbody>\n",
              "</table>\n",
              "</div>\n",
              "    <div class=\"colab-df-buttons\">\n",
              "\n",
              "  <div class=\"colab-df-container\">\n",
              "    <button class=\"colab-df-convert\" onclick=\"convertToInteractive('df-cd647289-00f7-4478-b5b6-4c97747ae746')\"\n",
              "            title=\"Convert this dataframe to an interactive table.\"\n",
              "            style=\"display:none;\">\n",
              "\n",
              "  <svg xmlns=\"http://www.w3.org/2000/svg\" height=\"24px\" viewBox=\"0 -960 960 960\">\n",
              "    <path d=\"M120-120v-720h720v720H120Zm60-500h600v-160H180v160Zm220 220h160v-160H400v160Zm0 220h160v-160H400v160ZM180-400h160v-160H180v160Zm440 0h160v-160H620v160ZM180-180h160v-160H180v160Zm440 0h160v-160H620v160Z\"/>\n",
              "  </svg>\n",
              "    </button>\n",
              "\n",
              "  <style>\n",
              "    .colab-df-container {\n",
              "      display:flex;\n",
              "      gap: 12px;\n",
              "    }\n",
              "\n",
              "    .colab-df-convert {\n",
              "      background-color: #E8F0FE;\n",
              "      border: none;\n",
              "      border-radius: 50%;\n",
              "      cursor: pointer;\n",
              "      display: none;\n",
              "      fill: #1967D2;\n",
              "      height: 32px;\n",
              "      padding: 0 0 0 0;\n",
              "      width: 32px;\n",
              "    }\n",
              "\n",
              "    .colab-df-convert:hover {\n",
              "      background-color: #E2EBFA;\n",
              "      box-shadow: 0px 1px 2px rgba(60, 64, 67, 0.3), 0px 1px 3px 1px rgba(60, 64, 67, 0.15);\n",
              "      fill: #174EA6;\n",
              "    }\n",
              "\n",
              "    .colab-df-buttons div {\n",
              "      margin-bottom: 4px;\n",
              "    }\n",
              "\n",
              "    [theme=dark] .colab-df-convert {\n",
              "      background-color: #3B4455;\n",
              "      fill: #D2E3FC;\n",
              "    }\n",
              "\n",
              "    [theme=dark] .colab-df-convert:hover {\n",
              "      background-color: #434B5C;\n",
              "      box-shadow: 0px 1px 3px 1px rgba(0, 0, 0, 0.15);\n",
              "      filter: drop-shadow(0px 1px 2px rgba(0, 0, 0, 0.3));\n",
              "      fill: #FFFFFF;\n",
              "    }\n",
              "  </style>\n",
              "\n",
              "    <script>\n",
              "      const buttonEl =\n",
              "        document.querySelector('#df-cd647289-00f7-4478-b5b6-4c97747ae746 button.colab-df-convert');\n",
              "      buttonEl.style.display =\n",
              "        google.colab.kernel.accessAllowed ? 'block' : 'none';\n",
              "\n",
              "      async function convertToInteractive(key) {\n",
              "        const element = document.querySelector('#df-cd647289-00f7-4478-b5b6-4c97747ae746');\n",
              "        const dataTable =\n",
              "          await google.colab.kernel.invokeFunction('convertToInteractive',\n",
              "                                                    [key], {});\n",
              "        if (!dataTable) return;\n",
              "\n",
              "        const docLinkHtml = 'Like what you see? Visit the ' +\n",
              "          '<a target=\"_blank\" href=https://colab.research.google.com/notebooks/data_table.ipynb>data table notebook</a>'\n",
              "          + ' to learn more about interactive tables.';\n",
              "        element.innerHTML = '';\n",
              "        dataTable['output_type'] = 'display_data';\n",
              "        await google.colab.output.renderOutput(dataTable, element);\n",
              "        const docLink = document.createElement('div');\n",
              "        docLink.innerHTML = docLinkHtml;\n",
              "        element.appendChild(docLink);\n",
              "      }\n",
              "    </script>\n",
              "  </div>\n",
              "\n",
              "\n",
              "<div id=\"df-9c3be4fe-4e37-403e-841f-deef34793092\">\n",
              "  <button class=\"colab-df-quickchart\" onclick=\"quickchart('df-9c3be4fe-4e37-403e-841f-deef34793092')\"\n",
              "            title=\"Suggest charts\"\n",
              "            style=\"display:none;\">\n",
              "\n",
              "<svg xmlns=\"http://www.w3.org/2000/svg\" height=\"24px\"viewBox=\"0 0 24 24\"\n",
              "     width=\"24px\">\n",
              "    <g>\n",
              "        <path d=\"M19 3H5c-1.1 0-2 .9-2 2v14c0 1.1.9 2 2 2h14c1.1 0 2-.9 2-2V5c0-1.1-.9-2-2-2zM9 17H7v-7h2v7zm4 0h-2V7h2v10zm4 0h-2v-4h2v4z\"/>\n",
              "    </g>\n",
              "</svg>\n",
              "  </button>\n",
              "\n",
              "<style>\n",
              "  .colab-df-quickchart {\n",
              "      --bg-color: #E8F0FE;\n",
              "      --fill-color: #1967D2;\n",
              "      --hover-bg-color: #E2EBFA;\n",
              "      --hover-fill-color: #174EA6;\n",
              "      --disabled-fill-color: #AAA;\n",
              "      --disabled-bg-color: #DDD;\n",
              "  }\n",
              "\n",
              "  [theme=dark] .colab-df-quickchart {\n",
              "      --bg-color: #3B4455;\n",
              "      --fill-color: #D2E3FC;\n",
              "      --hover-bg-color: #434B5C;\n",
              "      --hover-fill-color: #FFFFFF;\n",
              "      --disabled-bg-color: #3B4455;\n",
              "      --disabled-fill-color: #666;\n",
              "  }\n",
              "\n",
              "  .colab-df-quickchart {\n",
              "    background-color: var(--bg-color);\n",
              "    border: none;\n",
              "    border-radius: 50%;\n",
              "    cursor: pointer;\n",
              "    display: none;\n",
              "    fill: var(--fill-color);\n",
              "    height: 32px;\n",
              "    padding: 0;\n",
              "    width: 32px;\n",
              "  }\n",
              "\n",
              "  .colab-df-quickchart:hover {\n",
              "    background-color: var(--hover-bg-color);\n",
              "    box-shadow: 0 1px 2px rgba(60, 64, 67, 0.3), 0 1px 3px 1px rgba(60, 64, 67, 0.15);\n",
              "    fill: var(--button-hover-fill-color);\n",
              "  }\n",
              "\n",
              "  .colab-df-quickchart-complete:disabled,\n",
              "  .colab-df-quickchart-complete:disabled:hover {\n",
              "    background-color: var(--disabled-bg-color);\n",
              "    fill: var(--disabled-fill-color);\n",
              "    box-shadow: none;\n",
              "  }\n",
              "\n",
              "  .colab-df-spinner {\n",
              "    border: 2px solid var(--fill-color);\n",
              "    border-color: transparent;\n",
              "    border-bottom-color: var(--fill-color);\n",
              "    animation:\n",
              "      spin 1s steps(1) infinite;\n",
              "  }\n",
              "\n",
              "  @keyframes spin {\n",
              "    0% {\n",
              "      border-color: transparent;\n",
              "      border-bottom-color: var(--fill-color);\n",
              "      border-left-color: var(--fill-color);\n",
              "    }\n",
              "    20% {\n",
              "      border-color: transparent;\n",
              "      border-left-color: var(--fill-color);\n",
              "      border-top-color: var(--fill-color);\n",
              "    }\n",
              "    30% {\n",
              "      border-color: transparent;\n",
              "      border-left-color: var(--fill-color);\n",
              "      border-top-color: var(--fill-color);\n",
              "      border-right-color: var(--fill-color);\n",
              "    }\n",
              "    40% {\n",
              "      border-color: transparent;\n",
              "      border-right-color: var(--fill-color);\n",
              "      border-top-color: var(--fill-color);\n",
              "    }\n",
              "    60% {\n",
              "      border-color: transparent;\n",
              "      border-right-color: var(--fill-color);\n",
              "    }\n",
              "    80% {\n",
              "      border-color: transparent;\n",
              "      border-right-color: var(--fill-color);\n",
              "      border-bottom-color: var(--fill-color);\n",
              "    }\n",
              "    90% {\n",
              "      border-color: transparent;\n",
              "      border-bottom-color: var(--fill-color);\n",
              "    }\n",
              "  }\n",
              "</style>\n",
              "\n",
              "  <script>\n",
              "    async function quickchart(key) {\n",
              "      const quickchartButtonEl =\n",
              "        document.querySelector('#' + key + ' button');\n",
              "      quickchartButtonEl.disabled = true;  // To prevent multiple clicks.\n",
              "      quickchartButtonEl.classList.add('colab-df-spinner');\n",
              "      try {\n",
              "        const charts = await google.colab.kernel.invokeFunction(\n",
              "            'suggestCharts', [key], {});\n",
              "      } catch (error) {\n",
              "        console.error('Error during call to suggestCharts:', error);\n",
              "      }\n",
              "      quickchartButtonEl.classList.remove('colab-df-spinner');\n",
              "      quickchartButtonEl.classList.add('colab-df-quickchart-complete');\n",
              "    }\n",
              "    (() => {\n",
              "      let quickchartButtonEl =\n",
              "        document.querySelector('#df-9c3be4fe-4e37-403e-841f-deef34793092 button');\n",
              "      quickchartButtonEl.style.display =\n",
              "        google.colab.kernel.accessAllowed ? 'block' : 'none';\n",
              "    })();\n",
              "  </script>\n",
              "</div>\n",
              "    </div>\n",
              "  </div>\n"
            ]
          },
          "metadata": {},
          "execution_count": 10
        }
      ]
    },
    {
      "cell_type": "code",
      "source": [
        "df.shape"
      ],
      "metadata": {
        "colab": {
          "base_uri": "https://localhost:8080/"
        },
        "id": "wAHMkONbzD-r",
        "outputId": "e0f7aa56-4040-49da-8bde-84da24db7e0c"
      },
      "execution_count": 33,
      "outputs": [
        {
          "output_type": "execute_result",
          "data": {
            "text/plain": [
              "(100836, 5)"
            ]
          },
          "metadata": {},
          "execution_count": 33
        }
      ]
    },
    {
      "cell_type": "code",
      "source": [
        "# Extract unique user and item counts\n",
        "num_users = df['userId'].nunique()\n",
        "num_items = df['movieId'].nunique()"
      ],
      "metadata": {
        "id": "dwQEYo5QRwwZ"
      },
      "execution_count": 11,
      "outputs": []
    },
    {
      "cell_type": "code",
      "source": [
        "df = df.drop('timestamp', axis=1)"
      ],
      "metadata": {
        "id": "kOIw8EI0Ut2T"
      },
      "execution_count": 12,
      "outputs": []
    },
    {
      "cell_type": "code",
      "source": [
        "df.info()"
      ],
      "metadata": {
        "colab": {
          "base_uri": "https://localhost:8080/"
        },
        "id": "-AK6bPFYUZu4",
        "outputId": "2b401e14-0477-4676-dde2-846b31465e29"
      },
      "execution_count": 13,
      "outputs": [
        {
          "output_type": "stream",
          "name": "stdout",
          "text": [
            "<class 'pandas.core.frame.DataFrame'>\n",
            "RangeIndex: 100836 entries, 0 to 100835\n",
            "Data columns (total 3 columns):\n",
            " #   Column   Non-Null Count   Dtype  \n",
            "---  ------   --------------   -----  \n",
            " 0   userId   100836 non-null  int64  \n",
            " 1   movieId  100836 non-null  int64  \n",
            " 2   rating   100836 non-null  float64\n",
            "dtypes: float64(1), int64(2)\n",
            "memory usage: 2.3 MB\n"
          ]
        }
      ]
    },
    {
      "cell_type": "code",
      "source": [
        "print(\"Unique users:\", train_data['userId'].unique())\n",
        "print(\"Unique movies:\", train_data['movieId'].unique())\n"
      ],
      "metadata": {
        "colab": {
          "base_uri": "https://localhost:8080/"
        },
        "id": "X0vJdGQDUAq_",
        "outputId": "4d52c3bc-6d6c-4f2c-ac6b-c7adf78fa8a8"
      },
      "execution_count": 17,
      "outputs": [
        {
          "output_type": "stream",
          "name": "stdout",
          "text": [
            "Unique users: [221 229 415  76 487 509 362 263 136 554 280  51  24 453 528 597 133 301\n",
            " 103 294 419 219 484 599 552 141 125  47 179 239 105 603 177 307 288 520\n",
            " 525 610 473 565 567 414 305 606  20  66 112 137 391  29  89 369 274 368\n",
            " 266 249 132 398 314 382 490 586  40 570  41  18 564 543 405 474 271 318\n",
            " 275 365 428  59 372 425 200 139 236  84 514  97 444 483 329  86 577 101\n",
            "  93 477 195 559 270 282 380 408 285 325 410 260  23 178   7 331  68 122\n",
            " 104 336  62 412 413 135 186 495 330  14 517 290 605 561 448 376 455 328\n",
            " 387  35 480 417 409 381 140 352   8 254 489  88 299 363  42 190 593 182\n",
            "  74 522 256  91   6 202 466 117 608 339 462  19 232 337 156 607 241 527\n",
            "  57  95  21  81 594 199 482 467 539 153 361 250  28 499 534 216 556 590\n",
            " 298 292 441 434 193 385 479  39 111 563 226  50 165 377 481 475  99 180\n",
            " 169 404 359 478 357 223 562 580 493 596 235 144 313 312 560 392 129 204\n",
            " 167 573 212 587 457 171 259 306 131 146 170 160  44  87 601 287 109 143\n",
            " 566 584 515 437 100 469 511 354 152   3 217 438 293  64 401 588 168  98\n",
            " 102 317 113   4  58 308 356 246 220 431 600 283 470 531  85 233  10 545\n",
            " 452 500  70  78 390 579 224 198 492  83 461  45   1 583 443 491 161 568\n",
            " 138 602 519 399 551 538 433  63  94 119 449 207 215 158 142 508 485 505\n",
            " 322 128 203 279 367 147  73 371  32 341 502 120  96  17 227 110 465 269\n",
            " 247 174  82 315 123 488 389 181 544 347 191  27 582 150  72  33 222 373\n",
            " 124 393 115 258 555  15 411 230 286  38 378 340  49 429 276 303 268 423\n",
            " 464 353 187 183 504 402 206 542 278  69 432  11  80 211 435 463 370 472\n",
            "  54  34 127 201 243 403  36 589 334 578 547  22 384 388 609 351 476 176\n",
            " 346 427 383 345 210 277 424 426 422 571 302 553 436 418  37 416 366 546\n",
            " 234  90 214 185 296 257 338 149 342 524 375 446 572 166 496 535  30 503\n",
            " 344  52  13 456 173 326 335 225 157 471 272 348 420 343 116 406 523 526\n",
            " 107 155  75 297 510 273  43 121 261 549 501 184 154 604 240  79 108 386\n",
            " 592 295 304 407 148 506 196 458 316 134 309 540 205  31 530 576 255 244\n",
            " 374 529 537 364 591 284 521 598 379 252 321 548  16 126 541 319 513 447\n",
            " 468 507 213 498 118 265 350 581  77 558 395 512 360 248 310 323 536 440\n",
            " 159 164 267 442 289 175 327 460 557  71 332 358 486 188 238  53 324  55\n",
            " 445 450   2 151 106 430 421  56 242 400 130  26 497 253   5 300 394  60\n",
            " 192 218  48 349 281  65 311 518 162  61 264  46 451 585  92 145 208 197\n",
            "  67 262 494   9 237  25 172 516 397 333 194 228 355 396 533 532 454 575\n",
            " 251 209 595 163 320 459 439 550 569 114 231 245 189  12 291 574]\n",
            "Unique movies: [  3334    213    928 ...  83374 160289  99750]\n"
          ]
        }
      ]
    },
    {
      "cell_type": "code",
      "source": [
        "df.isnull().sum()"
      ],
      "metadata": {
        "colab": {
          "base_uri": "https://localhost:8080/"
        },
        "id": "0e4daEXUVF5K",
        "outputId": "1c554143-d6a8-41d0-dbac-93c424d27c27"
      },
      "execution_count": 18,
      "outputs": [
        {
          "output_type": "execute_result",
          "data": {
            "text/plain": [
              "userId     0\n",
              "movieId    0\n",
              "rating     0\n",
              "dtype: int64"
            ]
          },
          "metadata": {},
          "execution_count": 18
        }
      ]
    },
    {
      "cell_type": "code",
      "source": [
        "train_data['userId'] = train_data['userId'] - 1\n",
        "train_data['movieId'] = train_data['movieId'] - 1\n"
      ],
      "metadata": {
        "id": "gUp_RD4SUKTg"
      },
      "execution_count": 19,
      "outputs": []
    },
    {
      "cell_type": "code",
      "source": [
        "num_items"
      ],
      "metadata": {
        "colab": {
          "base_uri": "https://localhost:8080/"
        },
        "id": "c_wmXWdOTFU5",
        "outputId": "1418a9a9-cfeb-4f15-936b-20675ada0721"
      },
      "execution_count": 20,
      "outputs": [
        {
          "output_type": "execute_result",
          "data": {
            "text/plain": [
              "9724"
            ]
          },
          "metadata": {},
          "execution_count": 20
        }
      ]
    },
    {
      "cell_type": "code",
      "source": [
        "#### Split the data into training and testing sets"
      ],
      "metadata": {
        "id": "dG3WmgqSQxDd"
      },
      "execution_count": 21,
      "outputs": []
    },
    {
      "cell_type": "code",
      "source": [
        "train_data, test_data = train_test_split(df, test_size=0.2)"
      ],
      "metadata": {
        "id": "hGmT1AuIRF9f"
      },
      "execution_count": 22,
      "outputs": []
    },
    {
      "cell_type": "code",
      "source": [
        "def collaborative_filtering_model(num_users, num_items, embedding_size=50, reg=0.01):\n",
        "    user_input = Input(shape=(1,), name='user_input')\n",
        "    item_input = Input(shape=(1,), name='item_input')\n",
        "\n",
        "    user_embedding = Embedding(input_dim=num_users, output_dim=embedding_size, input_length=1, embeddings_regularizer=l2(reg))(user_input)\n",
        "    item_embedding = Embedding(input_dim=num_items, output_dim=embedding_size, input_length=1, embeddings_regularizer=l2(reg))(item_input)\n",
        "\n",
        "    user_flat = Flatten()(user_embedding)\n",
        "    item_flat = Flatten()(item_embedding)\n",
        "\n",
        "    concatenated = Concatenate()([user_flat, item_flat])\n",
        "\n",
        "    dense_1 = Dense(64, activation='relu')(concatenated)\n",
        "    dropout_1 = Dropout(0.5)(dense_1)\n",
        "\n",
        "    dense_2 = Dense(32, activation='relu')(dropout_1)\n",
        "    dropout_2 = Dropout(0.5)(dense_2)\n",
        "\n",
        "    output = Dense(1, activation='linear')(dropout_2)\n",
        "\n",
        "    model = Model(inputs=[user_input, item_input], outputs=output)\n",
        "    model.compile(optimizer=Adam(lr=0.01), loss='mean_squared_error')\n",
        "    return model"
      ],
      "metadata": {
        "id": "fgKhZnYsRJ3z"
      },
      "execution_count": 23,
      "outputs": []
    },
    {
      "cell_type": "code",
      "source": [
        "num_users"
      ],
      "metadata": {
        "colab": {
          "base_uri": "https://localhost:8080/"
        },
        "id": "2UH9D3bnSl9F",
        "outputId": "39b4b4c0-b2fb-45bc-bd44-aefac548fc59"
      },
      "execution_count": 24,
      "outputs": [
        {
          "output_type": "execute_result",
          "data": {
            "text/plain": [
              "610"
            ]
          },
          "metadata": {},
          "execution_count": 24
        }
      ]
    },
    {
      "cell_type": "code",
      "source": [
        "import pandas as pd\n",
        "from sklearn.model_selection import train_test_split\n",
        "from tensorflow.keras.optimizers import Adam\n",
        "from tensorflow.keras.models import Model\n",
        "from tensorflow.keras.layers import Input, Embedding, Flatten, Concatenate, Dense, Dropout\n",
        "from tensorflow.keras.regularizers import l2\n",
        "\n",
        "\n",
        "\n",
        "# Assuming you have unique user and movie IDs, you can map them to integer indices\n",
        "user_mapping = {user_id: idx for idx, user_id in enumerate(df['userId'].unique())}\n",
        "movie_mapping = {movie_id: idx for idx, movie_id in enumerate(df['movieId'].unique())}\n",
        "\n",
        "df['user_idx'] = df['userId'].map(user_mapping)\n",
        "df['movie_idx'] = df['movieId'].map(movie_mapping)\n",
        "\n",
        "# Split the data into training and testing sets\n",
        "train_data, test_data = train_test_split(df, test_size=0.2, random_state=42)\n",
        "\n",
        "# Define the model\n",
        "num_users = len(df['userId'].unique())\n",
        "num_items = len(df['movieId'].unique())\n",
        "embedding_size = 50\n",
        "\n",
        "model = collaborative_filtering_model(num_users, num_items, embedding_size=embedding_size)\n",
        "\n",
        "# Train the model\n",
        "model.fit([train_data['user_idx'], train_data['movie_idx']], train_data['rating'], epochs=5, batch_size=64, validation_split=0.2)\n",
        "\n",
        "# Evaluate the model on the test set\n",
        "test_loss = model.evaluate([test_data['user_idx'], test_data['movie_idx']], test_data['rating'])\n",
        "print(f\"Test Loss: {test_loss}\")\n"
      ],
      "metadata": {
        "colab": {
          "base_uri": "https://localhost:8080/"
        },
        "id": "nUDjkGtKSyXX",
        "outputId": "46b8c7b2-41db-41bc-bfbd-7a9634b56f3a"
      },
      "execution_count": 34,
      "outputs": [
        {
          "output_type": "stream",
          "name": "stderr",
          "text": [
            "WARNING:absl:`lr` is deprecated in Keras optimizer, please use `learning_rate` or use the legacy optimizer, e.g.,tf.keras.optimizers.legacy.Adam.\n"
          ]
        },
        {
          "output_type": "stream",
          "name": "stdout",
          "text": [
            "Epoch 1/5\n",
            "1009/1009 [==============================] - 10s 9ms/step - loss: 2.6452 - val_loss: 1.1531\n",
            "Epoch 2/5\n",
            "1009/1009 [==============================] - 8s 8ms/step - loss: 1.6569 - val_loss: 1.0715\n",
            "Epoch 3/5\n",
            "1009/1009 [==============================] - 9s 9ms/step - loss: 1.4052 - val_loss: 0.9949\n",
            "Epoch 4/5\n",
            "1009/1009 [==============================] - 9s 9ms/step - loss: 1.2352 - val_loss: 0.9715\n",
            "Epoch 5/5\n",
            "1009/1009 [==============================] - 9s 9ms/step - loss: 1.1114 - val_loss: 0.9615\n",
            "631/631 [==============================] - 2s 3ms/step - loss: 0.9605\n",
            "Test Loss: 0.9605360627174377\n"
          ]
        }
      ]
    },
    {
      "cell_type": "code",
      "source": [
        "import matplotlib.pyplot as plt\n",
        "\n",
        "# Assuming you've already created and compiled your model\n",
        "model = collaborative_filtering_model(num_users, num_items, embedding_size=50)\n",
        "\n",
        "# Train the model and get the training history\n",
        "history = model.fit([train_data['user_idx'], train_data['movie_idx']], train_data['rating'], epochs=5, batch_size=64, validation_split=0.2)\n",
        "\n",
        "# Plot the training and validation loss\n",
        "plt.plot(history.history['loss'], label='Training Loss')\n",
        "plt.plot(history.history['val_loss'], label='Validation Loss')\n",
        "plt.xlabel('Epoch')\n",
        "plt.ylabel('Loss')\n",
        "plt.legend()\n",
        "plt.show()\n"
      ],
      "metadata": {
        "colab": {
          "base_uri": "https://localhost:8080/",
          "height": 645
        },
        "id": "MOaLLXJ_cB2g",
        "outputId": "6175a402-1ec3-4213-cda0-5f83ee01e43b"
      },
      "execution_count": 36,
      "outputs": [
        {
          "output_type": "stream",
          "name": "stderr",
          "text": [
            "WARNING:absl:`lr` is deprecated in Keras optimizer, please use `learning_rate` or use the legacy optimizer, e.g.,tf.keras.optimizers.legacy.Adam.\n"
          ]
        },
        {
          "output_type": "stream",
          "name": "stdout",
          "text": [
            "Epoch 1/5\n",
            "1009/1009 [==============================] - 11s 9ms/step - loss: 2.4549 - val_loss: 1.1548\n",
            "Epoch 2/5\n",
            "1009/1009 [==============================] - 8s 8ms/step - loss: 1.5891 - val_loss: 1.0901\n",
            "Epoch 3/5\n",
            "1009/1009 [==============================] - 9s 9ms/step - loss: 1.3842 - val_loss: 1.0280\n",
            "Epoch 4/5\n",
            "1009/1009 [==============================] - 9s 9ms/step - loss: 1.2208 - val_loss: 0.9825\n",
            "Epoch 5/5\n",
            "1009/1009 [==============================] - 8s 8ms/step - loss: 1.1067 - val_loss: 0.9759\n"
          ]
        },
        {
          "output_type": "display_data",
          "data": {
            "text/plain": [
              "<Figure size 640x480 with 1 Axes>"
            ],
            "image/png": "[encoded data removed]"
          },
          "metadata": {}
        }
      ]
    },
    {
      "cell_type": "code",
      "source": [
        "from tensorflow.keras.utils import plot_model\n",
        "\n",
        "# Assuming you've already created and compiled your model\n",
        "model = collaborative_filtering_model(num_users, num_items, embedding_size=50)\n",
        "\n",
        "# Plot the model architecture\n",
        "plot_model(model, to_file='collaborative_filtering_model.png', show_shapes=True, show_layer_names=True)\n"
      ],
      "metadata": {
        "colab": {
          "base_uri": "https://localhost:8080/",
          "height": 994
        },
        "id": "5iIYyEDTYd98",
        "outputId": "961a4a6b-7e6c-4772-ec04-0fa3056deb12"
      },
      "execution_count": 27,
      "outputs": [
        {
          "output_type": "stream",
          "name": "stderr",
          "text": [
            "WARNING:absl:`lr` is deprecated in Keras optimizer, please use `learning_rate` or use the legacy optimizer, e.g.,tf.keras.optimizers.legacy.Adam.\n"
          ]
        },
        {
          "output_type": "execute_result",
          "data": {
            "image/png": "[encoded data removed]",
            "text/plain": [
              "<IPython.core.display.Image object>"
            ]
          },
          "metadata": {},
          "execution_count": 27
        }
      ]
    },
    {
      "cell_type": "markdown",
      "source": [],
      "metadata": {
        "id": "a36bxsgqr_U4"
      }
    },
    {
      "cell_type": "markdown",
      "source": [
        "### without regulazation"
      ],
      "metadata": {
        "id": "ZVg0nNQbt-pJ"
      }
    },
    {
      "cell_type": "markdown",
      "source": [],
      "metadata": {
        "id": "7wuEvTSKt8j2"
      }
    },
    {
      "cell_type": "code",
      "source": [
        "from tensorflow.keras.layers import Input, Embedding, Flatten, Dense, Dropout, Concatenate\n",
        "from tensorflow.keras.models import Model\n",
        "from tensorflow.keras.optimizers import Adam\n",
        "\n",
        "def collaborative_filtering_model_no_reg(num_users, num_items, embedding_size=50):\n",
        "    user_input = Input(shape=(1,), name='user_input')\n",
        "    item_input = Input(shape=(1,), name='item_input')\n",
        "\n",
        "    user_embedding = Embedding(input_dim=num_users, output_dim=embedding_size, input_length=1)(user_input)\n",
        "    item_embedding = Embedding(input_dim=num_items, output_dim=embedding_size, input_length=1)(item_input)\n",
        "\n",
        "    user_flat = Flatten()(user_embedding)\n",
        "    item_flat = Flatten()(item_embedding)\n",
        "\n",
        "    concatenated = Concatenate()([user_flat, item_flat])\n",
        "\n",
        "    dense_1 = Dense(64, activation='relu')(concatenated)\n",
        "    dropout_1 = Dropout(0.5)(dense_1)\n",
        "\n",
        "    dense_2 = Dense(32, activation='relu')(dropout_1)\n",
        "    dropout_2 = Dropout(0.5)(dense_2)\n",
        "\n",
        "    output = Dense(1, activation='linear')(dropout_2)\n",
        "\n",
        "    model = Model(inputs=[user_input, item_input], outputs=output)\n",
        "    model.compile(optimizer=Adam(lr=0.01), loss='mean_squared_error')\n",
        "    return model\n"
      ],
      "metadata": {
        "id": "OKUME0-5uB9e"
      },
      "execution_count": 37,
      "outputs": []
    },
    {
      "cell_type": "code",
      "source": [
        "uregularazed_model = collaborative_filtering_model_no_reg(num_users, num_items, embedding_size=embedding_size)"
      ],
      "metadata": {
        "colab": {
          "base_uri": "https://localhost:8080/"
        },
        "id": "yyjRLVBCuDwT",
        "outputId": "7edb48c1-989d-4785-f69e-805c4f091beb"
      },
      "execution_count": 38,
      "outputs": [
        {
          "output_type": "stream",
          "name": "stderr",
          "text": [
            "WARNING:absl:`lr` is deprecated in Keras optimizer, please use `learning_rate` or use the legacy optimizer, e.g.,tf.keras.optimizers.legacy.Adam.\n"
          ]
        }
      ]
    },
    {
      "cell_type": "code",
      "source": [
        "# Train the model\n",
        "uregularazed_model.fit([train_data['user_idx'], train_data['movie_idx']], train_data['rating'], epochs=5, batch_size=64, validation_split=0.2)\n",
        "\n",
        "# Evaluate the model on the test set\n",
        "test_loss = uregularazed_model.evaluate([test_data['user_idx'], test_data['movie_idx']], test_data['rating'])\n",
        "print(f\"Test Loss: {test_loss}\")"
      ],
      "metadata": {
        "colab": {
          "base_uri": "https://localhost:8080/"
        },
        "id": "DkJ5S56buYNT",
        "outputId": "1d327f03-15a1-4c2e-80c7-5563e5d04a20"
      },
      "execution_count": 39,
      "outputs": [
        {
          "output_type": "stream",
          "name": "stdout",
          "text": [
            "Epoch 1/5\n",
            "1009/1009 [==============================] - 10s 9ms/step - loss: 2.1305 - val_loss: 0.8666\n",
            "Epoch 2/5\n",
            "1009/1009 [==============================] - 9s 9ms/step - loss: 1.2794 - val_loss: 0.8198\n",
            "Epoch 3/5\n",
            "1009/1009 [==============================] - 9s 9ms/step - loss: 1.0878 - val_loss: 0.7920\n",
            "Epoch 4/5\n",
            "1009/1009 [==============================] - 9s 9ms/step - loss: 0.9487 - val_loss: 0.8040\n",
            "Epoch 5/5\n",
            "1009/1009 [==============================] - 8s 8ms/step - loss: 0.8487 - val_loss: 0.7893\n",
            "631/631 [==============================] - 1s 2ms/step - loss: 0.7889\n",
            "Test Loss: 0.788884699344635\n"
          ]
        }
      ]
    },
    {
      "cell_type": "code",
      "source": [
        "import matplotlib.pyplot as plt\n",
        "\n",
        "# Assuming you've already created and compiled your model\n",
        "uregularazed_model = collaborative_filtering_model_no_reg(num_users, num_items, embedding_size=50)\n",
        "\n",
        "# Train the model and get the training history\n",
        "history = model.fit([train_data['user_idx'], train_data['movie_idx']], train_data['rating'], epochs=5, batch_size=64, validation_split=0.2)\n",
        "\n",
        "# Plot the training and validation loss\n",
        "plt.plot(history.history['loss'], label='Training Loss')\n",
        "plt.plot(history.history['val_loss'], label='Validation Loss')\n",
        "plt.xlabel('Epoch')\n",
        "plt.ylabel('Loss')\n",
        "plt.legend()\n",
        "plt.show()"
      ],
      "metadata": {
        "colab": {
          "base_uri": "https://localhost:8080/",
          "height": 649
        },
        "id": "Ic_Twy-zwWQ5",
        "outputId": "37d0c192-4773-486b-b2dd-57a580348511"
      },
      "execution_count": 41,
      "outputs": [
        {
          "output_type": "stream",
          "name": "stderr",
          "text": [
            "WARNING:absl:`lr` is deprecated in Keras optimizer, please use `learning_rate` or use the legacy optimizer, e.g.,tf.keras.optimizers.legacy.Adam.\n"
          ]
        },
        {
          "output_type": "stream",
          "name": "stdout",
          "text": [
            "Epoch 1/5\n",
            "1009/1009 [==============================] - 11s 10ms/step - loss: 0.9075 - val_loss: 0.9435\n",
            "Epoch 2/5\n",
            "1009/1009 [==============================] - 9s 9ms/step - loss: 0.9023 - val_loss: 0.9574\n",
            "Epoch 3/5\n",
            "1009/1009 [==============================] - 8s 7ms/step - loss: 0.9006 - val_loss: 0.9388\n",
            "Epoch 4/5\n",
            "1009/1009 [==============================] - 9s 9ms/step - loss: 0.8986 - val_loss: 0.9486\n",
            "Epoch 5/5\n",
            "1009/1009 [==============================] - 8s 8ms/step - loss: 0.9019 - val_loss: 0.9471\n"
          ]
        },
        {
          "output_type": "display_data",
          "data": {
            "text/plain": [
              "<Figure size 640x480 with 1 Axes>"
            ],
            "image/png": "[encoded data removed]"
          },
          "metadata": {}
        }
      ]
    },
    {
      "cell_type": "code",
      "source": [],
      "metadata": {
        "id": "_WsXkQfexuuL"
      },
      "execution_count": null,
      "outputs": []
    }
  ]
}