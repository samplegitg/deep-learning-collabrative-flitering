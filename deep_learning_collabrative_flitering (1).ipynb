{
  "nbformat": 4,
  "nbformat_minor": 0,
  "metadata": {
    "colab": {
      "provenance": []
    },
    "kernelspec": {
      "name": "python3",
      "display_name": "Python 3"
    },
    "language_info": {
      "name": "python"
    }
  },
  "cells": [
    {
      "cell_type": "code",
      "execution_count": 3,
      "metadata": {
        "id": "L4jUeZFqEbEZ"
      },
      "outputs": [],
      "source": [
        "import tensorflow as tf\n",
        "from tensorflow.keras.layers import Input, Embedding, Flatten, Dense, Concatenate, Dropout\n",
        "from tensorflow.keras.models import Model\n",
        "from tensorflow.keras.regularizers import l2\n",
        "from tensorflow.keras.optimizers import Adam\n",
        "from sklearn.model_selection import train_test_split\n",
        "import numpy as np"
      ]
    },
    {
      "cell_type": "code",
      "source": [
        "!unzip archive.zip\n"
      ],
      "metadata": {
        "id": "gj7s660SEdsF",
        "colab": {
          "base_uri": "https://localhost:8080/"
        },
        "outputId": "d1794af3-b748-4411-93d8-d8bc59e4f527"
      },
      "execution_count": 5,
      "outputs": [
        {
          "output_type": "stream",
          "name": "stdout",
          "text": [
            "Archive:  archive.zip\n",
            "  inflating: README.txt              \n",
            "  inflating: links.csv               \n",
            "  inflating: movies.csv              \n",
            "  inflating: ratings.csv             \n",
            "  inflating: tags.csv                \n"
          ]
        }
      ]
    },
    {
      "cell_type": "code",
      "source": [
        "import zipfile\n",
        "import io\n",
        "import pandas as pd\n",
        "\n",
        "# Specify the uploaded zip file name\n",
        "zip_file_name = 'archive.zip'\n",
        "\n",
        "# Read a specific file from the zip without extracting\n",
        "with zipfile.ZipFile(zip_file_name, 'r') as zip_ref:\n",
        "    # Assuming 'example.csv' is the file you want to read\n",
        "    csv_file_name = 'ratings.csv'\n",
        "\n",
        "    # Read the CSV file into a DataFrame\n",
        "    with zip_ref.open(csv_file_name) as file:\n",
        "        df = pd.read_csv(file)\n",
        "\n",
        "# Display the first few rows of the DataFrame\n",
        "print(df.head())\n"
      ],
      "metadata": {
        "colab": {
          "base_uri": "https://localhost:8080/"
        },
        "id": "P6zAU9v7Pabp",
        "outputId": "08b65e50-d3a1-4ab1-b682-26147178dfc0"
      },
      "execution_count": 19,
      "outputs": [
        {
          "output_type": "stream",
          "name": "stdout",
          "text": [
            "   userId  movieId  rating  timestamp\n",
            "0       1        1     4.0  964982703\n",
            "1       1        3     4.0  964981247\n",
            "2       1        6     4.0  964982224\n",
            "3       1       47     5.0  964983815\n",
            "4       1       50     5.0  964982931\n"
          ]
        }
      ]
    },
    {
      "cell_type": "code",
      "source": [
        "df.head()"
      ],
      "metadata": {
        "colab": {
          "base_uri": "https://localhost:8080/",
          "height": 206
        },
        "id": "OEHVtdb4fkEg",
        "outputId": "811d7acb-45a6-4027-b4e9-c82745d59373"
      },
      "execution_count": 59,
      "outputs": [
        {
          "output_type": "execute_result",
          "data": {
            "text/plain": [
              "   userId  movieId  rating  user_idx  movie_idx\n",
              "0       1        1     4.0         0          0\n",
              "1       1        3     4.0         0          1\n",
              "2       1        6     4.0         0          2\n",
              "3       1       47     5.0         0          3\n",
              "4       1       50     5.0         0          4"
            ],
            "text/html": [
              "\n",
              "  <div id=\"df-c000675d-e54b-450f-89f9-884ec67c545f\" class=\"colab-df-container\">\n",
              "    <div>\n",
              "<style scoped>\n",
              "    .dataframe tbody tr th:only-of-type {\n",
              "        vertical-align: middle;\n",
              "    }\n",
              "\n",
              "    .dataframe tbody tr th {\n",
              "        vertical-align: top;\n",
              "    }\n",
              "\n",
              "    .dataframe thead th {\n",
              "        text-align: right;\n",
              "    }\n",
              "</style>\n",
              "<table border=\"1\" class=\"dataframe\">\n",
              "  <thead>\n",
              "    <tr style=\"text-align: right;\">\n",
              "      <th></th>\n",
              "      <th>userId</th>\n",
              "      <th>movieId</th>\n",
              "      <th>rating</th>\n",
              "      <th>user_idx</th>\n",
              "      <th>movie_idx</th>\n",
              "    </tr>\n",
              "  </thead>\n",
              "  <tbody>\n",
              "    <tr>\n",
              "      <th>0</th>\n",
              "      <td>1</td>\n",
              "      <td>1</td>\n",
              "      <td>4.0</td>\n",
              "      <td>0</td>\n",
              "      <td>0</td>\n",
              "    </tr>\n",
              "    <tr>\n",
              "      <th>1</th>\n",
              "      <td>1</td>\n",
              "      <td>3</td>\n",
              "      <td>4.0</td>\n",
              "      <td>0</td>\n",
              "      <td>1</td>\n",
              "    </tr>\n",
              "    <tr>\n",
              "      <th>2</th>\n",
              "      <td>1</td>\n",
              "      <td>6</td>\n",
              "      <td>4.0</td>\n",
              "      <td>0</td>\n",
              "      <td>2</td>\n",
              "    </tr>\n",
              "    <tr>\n",
              "      <th>3</th>\n",
              "      <td>1</td>\n",
              "      <td>47</td>\n",
              "      <td>5.0</td>\n",
              "      <td>0</td>\n",
              "      <td>3</td>\n",
              "    </tr>\n",
              "    <tr>\n",
              "      <th>4</th>\n",
              "      <td>1</td>\n",
              "      <td>50</td>\n",
              "      <td>5.0</td>\n",
              "      <td>0</td>\n",
              "      <td>4</td>\n",
              "    </tr>\n",
              "  </tbody>\n",
              "</table>\n",
              "</div>\n",
              "    <div class=\"colab-df-buttons\">\n",
              "\n",
              "  <div class=\"colab-df-container\">\n",
              "    <button class=\"colab-df-convert\" onclick=\"convertToInteractive('df-c000675d-e54b-450f-89f9-884ec67c545f')\"\n",
              "            title=\"Convert this dataframe to an interactive table.\"\n",
              "            style=\"display:none;\">\n",
              "\n",
              "  <svg xmlns=\"http://www.w3.org/2000/svg\" height=\"24px\" viewBox=\"0 -960 960 960\">\n",
              "    <path d=\"M120-120v-720h720v720H120Zm60-500h600v-160H180v160Zm220 220h160v-160H400v160Zm0 220h160v-160H400v160ZM180-400h160v-160H180v160Zm440 0h160v-160H620v160ZM180-180h160v-160H180v160Zm440 0h160v-160H620v160Z\"/>\n",
              "  </svg>\n",
              "    </button>\n",
              "\n",
              "  <style>\n",
              "    .colab-df-container {\n",
              "      display:flex;\n",
              "      gap: 12px;\n",
              "    }\n",
              "\n",
              "    .colab-df-convert {\n",
              "      background-color: #E8F0FE;\n",
              "      border: none;\n",
              "      border-radius: 50%;\n",
              "      cursor: pointer;\n",
              "      display: none;\n",
              "      fill: #1967D2;\n",
              "      height: 32px;\n",
              "      padding: 0 0 0 0;\n",
              "      width: 32px;\n",
              "    }\n",
              "\n",
              "    .colab-df-convert:hover {\n",
              "      background-color: #E2EBFA;\n",
              "      box-shadow: 0px 1px 2px rgba(60, 64, 67, 0.3), 0px 1px 3px 1px rgba(60, 64, 67, 0.15);\n",
              "      fill: #174EA6;\n",
              "    }\n",
              "\n",
              "    .colab-df-buttons div {\n",
              "      margin-bottom: 4px;\n",
              "    }\n",
              "\n",
              "    [theme=dark] .colab-df-convert {\n",
              "      background-color: #3B4455;\n",
              "      fill: #D2E3FC;\n",
              "    }\n",
              "\n",
              "    [theme=dark] .colab-df-convert:hover {\n",
              "      background-color: #434B5C;\n",
              "      box-shadow: 0px 1px 3px 1px rgba(0, 0, 0, 0.15);\n",
              "      filter: drop-shadow(0px 1px 2px rgba(0, 0, 0, 0.3));\n",
              "      fill: #FFFFFF;\n",
              "    }\n",
              "  </style>\n",
              "\n",
              "    <script>\n",
              "      const buttonEl =\n",
              "        document.querySelector('#df-c000675d-e54b-450f-89f9-884ec67c545f button.colab-df-convert');\n",
              "      buttonEl.style.display =\n",
              "        google.colab.kernel.accessAllowed ? 'block' : 'none';\n",
              "\n",
              "      async function convertToInteractive(key) {\n",
              "        const element = document.querySelector('#df-c000675d-e54b-450f-89f9-884ec67c545f');\n",
              "        const dataTable =\n",
              "          await google.colab.kernel.invokeFunction('convertToInteractive',\n",
              "                                                    [key], {});\n",
              "        if (!dataTable) return;\n",
              "\n",
              "        const docLinkHtml = 'Like what you see? Visit the ' +\n",
              "          '<a target=\"_blank\" href=https://colab.research.google.com/notebooks/data_table.ipynb>data table notebook</a>'\n",
              "          + ' to learn more about interactive tables.';\n",
              "        element.innerHTML = '';\n",
              "        dataTable['output_type'] = 'display_data';\n",
              "        await google.colab.output.renderOutput(dataTable, element);\n",
              "        const docLink = document.createElement('div');\n",
              "        docLink.innerHTML = docLinkHtml;\n",
              "        element.appendChild(docLink);\n",
              "      }\n",
              "    </script>\n",
              "  </div>\n",
              "\n",
              "\n",
              "<div id=\"df-1949e0bb-69e8-4f4e-9a4d-7bd2f43dce06\">\n",
              "  <button class=\"colab-df-quickchart\" onclick=\"quickchart('df-1949e0bb-69e8-4f4e-9a4d-7bd2f43dce06')\"\n",
              "            title=\"Suggest charts.\"\n",
              "            style=\"display:none;\">\n",
              "\n",
              "<svg xmlns=\"http://www.w3.org/2000/svg\" height=\"24px\"viewBox=\"0 0 24 24\"\n",
              "     width=\"24px\">\n",
              "    <g>\n",
              "        <path d=\"M19 3H5c-1.1 0-2 .9-2 2v14c0 1.1.9 2 2 2h14c1.1 0 2-.9 2-2V5c0-1.1-.9-2-2-2zM9 17H7v-7h2v7zm4 0h-2V7h2v10zm4 0h-2v-4h2v4z\"/>\n",
              "    </g>\n",
              "</svg>\n",
              "  </button>\n",
              "\n",
              "<style>\n",
              "  .colab-df-quickchart {\n",
              "      --bg-color: #E8F0FE;\n",
              "      --fill-color: #1967D2;\n",
              "      --hover-bg-color: #E2EBFA;\n",
              "      --hover-fill-color: #174EA6;\n",
              "      --disabled-fill-color: #AAA;\n",
              "      --disabled-bg-color: #DDD;\n",
              "  }\n",
              "\n",
              "  [theme=dark] .colab-df-quickchart {\n",
              "      --bg-color: #3B4455;\n",
              "      --fill-color: #D2E3FC;\n",
              "      --hover-bg-color: #434B5C;\n",
              "      --hover-fill-color: #FFFFFF;\n",
              "      --disabled-bg-color: #3B4455;\n",
              "      --disabled-fill-color: #666;\n",
              "  }\n",
              "\n",
              "  .colab-df-quickchart {\n",
              "    background-color: var(--bg-color);\n",
              "    border: none;\n",
              "    border-radius: 50%;\n",
              "    cursor: pointer;\n",
              "    display: none;\n",
              "    fill: var(--fill-color);\n",
              "    height: 32px;\n",
              "    padding: 0;\n",
              "    width: 32px;\n",
              "  }\n",
              "\n",
              "  .colab-df-quickchart:hover {\n",
              "    background-color: var(--hover-bg-color);\n",
              "    box-shadow: 0 1px 2px rgba(60, 64, 67, 0.3), 0 1px 3px 1px rgba(60, 64, 67, 0.15);\n",
              "    fill: var(--button-hover-fill-color);\n",
              "  }\n",
              "\n",
              "  .colab-df-quickchart-complete:disabled,\n",
              "  .colab-df-quickchart-complete:disabled:hover {\n",
              "    background-color: var(--disabled-bg-color);\n",
              "    fill: var(--disabled-fill-color);\n",
              "    box-shadow: none;\n",
              "  }\n",
              "\n",
              "  .colab-df-spinner {\n",
              "    border: 2px solid var(--fill-color);\n",
              "    border-color: transparent;\n",
              "    border-bottom-color: var(--fill-color);\n",
              "    animation:\n",
              "      spin 1s steps(1) infinite;\n",
              "  }\n",
              "\n",
              "  @keyframes spin {\n",
              "    0% {\n",
              "      border-color: transparent;\n",
              "      border-bottom-color: var(--fill-color);\n",
              "      border-left-color: var(--fill-color);\n",
              "    }\n",
              "    20% {\n",
              "      border-color: transparent;\n",
              "      border-left-color: var(--fill-color);\n",
              "      border-top-color: var(--fill-color);\n",
              "    }\n",
              "    30% {\n",
              "      border-color: transparent;\n",
              "      border-left-color: var(--fill-color);\n",
              "      border-top-color: var(--fill-color);\n",
              "      border-right-color: var(--fill-color);\n",
              "    }\n",
              "    40% {\n",
              "      border-color: transparent;\n",
              "      border-right-color: var(--fill-color);\n",
              "      border-top-color: var(--fill-color);\n",
              "    }\n",
              "    60% {\n",
              "      border-color: transparent;\n",
              "      border-right-color: var(--fill-color);\n",
              "    }\n",
              "    80% {\n",
              "      border-color: transparent;\n",
              "      border-right-color: var(--fill-color);\n",
              "      border-bottom-color: var(--fill-color);\n",
              "    }\n",
              "    90% {\n",
              "      border-color: transparent;\n",
              "      border-bottom-color: var(--fill-color);\n",
              "    }\n",
              "  }\n",
              "</style>\n",
              "\n",
              "  <script>\n",
              "    async function quickchart(key) {\n",
              "      const quickchartButtonEl =\n",
              "        document.querySelector('#' + key + ' button');\n",
              "      quickchartButtonEl.disabled = true;  // To prevent multiple clicks.\n",
              "      quickchartButtonEl.classList.add('colab-df-spinner');\n",
              "      try {\n",
              "        const charts = await google.colab.kernel.invokeFunction(\n",
              "            'suggestCharts', [key], {});\n",
              "      } catch (error) {\n",
              "        console.error('Error during call to suggestCharts:', error);\n",
              "      }\n",
              "      quickchartButtonEl.classList.remove('colab-df-spinner');\n",
              "      quickchartButtonEl.classList.add('colab-df-quickchart-complete');\n",
              "    }\n",
              "    (() => {\n",
              "      let quickchartButtonEl =\n",
              "        document.querySelector('#df-1949e0bb-69e8-4f4e-9a4d-7bd2f43dce06 button');\n",
              "      quickchartButtonEl.style.display =\n",
              "        google.colab.kernel.accessAllowed ? 'block' : 'none';\n",
              "    })();\n",
              "  </script>\n",
              "</div>\n",
              "    </div>\n",
              "  </div>\n"
            ]
          },
          "metadata": {},
          "execution_count": 59
        }
      ]
    },
    {
      "cell_type": "code",
      "source": [
        "# Extract unique user and item counts\n",
        "num_users = df['userId'].nunique()\n",
        "num_items = df['movieId'].nunique()"
      ],
      "metadata": {
        "id": "dwQEYo5QRwwZ"
      },
      "execution_count": 14,
      "outputs": []
    },
    {
      "cell_type": "code",
      "source": [
        "df = df.drop('timestamp', axis=1)"
      ],
      "metadata": {
        "id": "kOIw8EI0Ut2T"
      },
      "execution_count": 41,
      "outputs": []
    },
    {
      "cell_type": "code",
      "source": [
        "df.info()"
      ],
      "metadata": {
        "colab": {
          "base_uri": "https://localhost:8080/"
        },
        "id": "-AK6bPFYUZu4",
        "outputId": "4a1a6ee7-6f21-4c5a-f741-65ae1eaf051d"
      },
      "execution_count": 42,
      "outputs": [
        {
          "output_type": "stream",
          "name": "stdout",
          "text": [
            "<class 'pandas.core.frame.DataFrame'>\n",
            "RangeIndex: 100836 entries, 0 to 100835\n",
            "Data columns (total 3 columns):\n",
            " #   Column   Non-Null Count   Dtype  \n",
            "---  ------   --------------   -----  \n",
            " 0   userId   100836 non-null  int64  \n",
            " 1   movieId  100836 non-null  int64  \n",
            " 2   rating   100836 non-null  float64\n",
            "dtypes: float64(1), int64(2)\n",
            "memory usage: 2.3 MB\n"
          ]
        }
      ]
    },
    {
      "cell_type": "code",
      "source": [
        "print(\"Unique users:\", train_data['userId'].unique())\n",
        "print(\"Unique movies:\", train_data['movieId'].unique())\n"
      ],
      "metadata": {
        "colab": {
          "base_uri": "https://localhost:8080/"
        },
        "id": "X0vJdGQDUAq_",
        "outputId": "c13388e7-9884-47d9-cc6b-7d4593cb0a7a"
      },
      "execution_count": 43,
      "outputs": [
        {
          "output_type": "stream",
          "name": "stdout",
          "text": [
            "Unique users: [ 42 219 474 411 561 608 606 346 109 387  19 514 610 525 182 298 330 600\n",
            "  68 249 476 372 274 318  93 393  36  21 292 430 455 414 398 603 256 105\n",
            " 467 304 580 288 560  67 527  57 224 434  18 416 339 125 323 221 284 596\n",
            " 448 555 523 143 599 352 587 317 165 385 275 250 285 187 583 305 312 464\n",
            " 231  48 480 266 482 296   4 489  62  79 509 438 539 313  89 211 577 559\n",
            " 290 294  10 265  51 234 594 232  95 367  20 368 378 365 124 384 260  16\n",
            " 199 236 397 534 556 158 504 160 591 238 564 462 226 202 233  73 477 437\n",
            " 552 597  41 495 380 137 382 362  66 227 287  17 156 178 483 100 432 128\n",
            "  91 135 279 115  58 554 351  50 222 520 529 446 244 307 573 262 291  84\n",
            " 605 140 198 445 103 469 151 104 371  47 259 327 111  64 132 607 410 381\n",
            "  98 531 168 379  78 153 213  59 110 548 412 254 517 210  28 190 354 570\n",
            " 542 524 217 146 391 282 159  74 337 121 562 419 241 541 157 566  30  76\n",
            " 579 200 490 342 308 355 247 588 334 203 526  80 181 177 452 276 141 590\n",
            " 326   8 404 357 230  82 246 225 359  23 510 212 601 139  97 454 267  55\n",
            " 301 415   3 366 166 424 408 310 558 484 289 215 216 491 136 300 436 485\n",
            " 429 609  45 486  22 598 538 420  56 427  43 528 270 192 220 129  32 295\n",
            "  40 522 144 333 280 567 239  33 400 186 348 167 479 194 183 401 386   6\n",
            " 402 370 138 204 572 169 328 356 425 197 315 551  31 171 117 173 325 453\n",
            " 223 571 488 122 331 126   7 444 458 447  38 395 546 593 521  11  27  44\n",
            " 578 475  88 218   1 532 376 188 321 309  63 322 123 134 494 470 394 503\n",
            " 512 466 240 119 353 150 350 195 418  90 174 585 269 441 586 493 426  24\n",
            " 422 537 602 170 142 191 131 442 492 545 363 544 229 405 465  37 460 505\n",
            " 148 513 498 272 500  99 155   2  86 473 184 471 390 592  29  15 263  96\n",
            " 428 421 472 377 497  83 563 245 450  70  72 506 297 530 338 268 271 332\n",
            " 175 152 319 252  49 461 540  39 180 336 107 584 589  34  75 369 440  54\n",
            " 443  71 595 302 373  26 361 113 253  14 255 201 543 235 120 314 257 519\n",
            " 286 406 383 604 243  69 582 261 358 179 281 565 487 449 164 116 511 409\n",
            " 237 306 392 154 374 536  25 417 209 316  60 101  52 133   5 214 515  65\n",
            " 264 463 456 208 399  12 193 459 499 553 130 468 347  94 335 423 439 329\n",
            " 533  87 508 547 396 535 299 344 311  77 185  81 102 196 389 251 574 413\n",
            " 501 162 375 550 345 108 147 303 149 575 176 283 112 435  13 407 581 258\n",
            " 457 114  92 293 161 278 557 127 273 496  35 502 248 341 277   9 106 205\n",
            " 549 349  53  85 340 242 118 478 451  46 343 388 403 481 172 431 516 568\n",
            "  61 228 433 189 360 324 507 320 163 576 206 518 569 145 364 207]\n",
            "Unique movies: [  1393   6281    252 ...  26171    956 109687]\n"
          ]
        }
      ]
    },
    {
      "cell_type": "code",
      "source": [
        "df.isnull().sum()"
      ],
      "metadata": {
        "colab": {
          "base_uri": "https://localhost:8080/"
        },
        "id": "0e4daEXUVF5K",
        "outputId": "0379fb4a-b002-4ccd-a912-37973251f62f"
      },
      "execution_count": 51,
      "outputs": [
        {
          "output_type": "execute_result",
          "data": {
            "text/plain": [
              "userId     0\n",
              "movieId    0\n",
              "rating     0\n",
              "dtype: int64"
            ]
          },
          "metadata": {},
          "execution_count": 51
        }
      ]
    },
    {
      "cell_type": "code",
      "source": [
        "train_data['userId'] = train_data['userId'] - 1\n",
        "train_data['movieId'] = train_data['movieId'] - 1\n"
      ],
      "metadata": {
        "id": "gUp_RD4SUKTg"
      },
      "execution_count": 44,
      "outputs": []
    },
    {
      "cell_type": "code",
      "source": [
        "num_items"
      ],
      "metadata": {
        "colab": {
          "base_uri": "https://localhost:8080/"
        },
        "id": "c_wmXWdOTFU5",
        "outputId": "53ff2080-bba6-456b-cd39-c388644fb7e0"
      },
      "execution_count": 45,
      "outputs": [
        {
          "output_type": "execute_result",
          "data": {
            "text/plain": [
              "9724"
            ]
          },
          "metadata": {},
          "execution_count": 45
        }
      ]
    },
    {
      "cell_type": "code",
      "source": [
        "#### Split the data into training and testing sets"
      ],
      "metadata": {
        "id": "dG3WmgqSQxDd"
      },
      "execution_count": 46,
      "outputs": []
    },
    {
      "cell_type": "code",
      "source": [
        "train_data, test_data = train_test_split(df, test_size=0.2)"
      ],
      "metadata": {
        "id": "hGmT1AuIRF9f"
      },
      "execution_count": 47,
      "outputs": []
    },
    {
      "cell_type": "code",
      "source": [
        "def collaborative_filtering_model(num_users, num_items, embedding_size=50, reg=0.01):\n",
        "    user_input = Input(shape=(1,), name='user_input')\n",
        "    item_input = Input(shape=(1,), name='item_input')\n",
        "\n",
        "    user_embedding = Embedding(input_dim=num_users, output_dim=embedding_size, input_length=1, embeddings_regularizer=l2(reg))(user_input)\n",
        "    item_embedding = Embedding(input_dim=num_items, output_dim=embedding_size, input_length=1, embeddings_regularizer=l2(reg))(item_input)\n",
        "\n",
        "    user_flat = Flatten()(user_embedding)\n",
        "    item_flat = Flatten()(item_embedding)\n",
        "\n",
        "    concatenated = Concatenate()([user_flat, item_flat])\n",
        "\n",
        "    dense_1 = Dense(64, activation='relu')(concatenated)\n",
        "    dropout_1 = Dropout(0.5)(dense_1)\n",
        "\n",
        "    dense_2 = Dense(32, activation='relu')(dropout_1)\n",
        "    dropout_2 = Dropout(0.5)(dense_2)\n",
        "\n",
        "    output = Dense(1, activation='linear')(dropout_2)\n",
        "\n",
        "    model = Model(inputs=[user_input, item_input], outputs=output)\n",
        "    model.compile(optimizer=Adam(lr=0.01), loss='mean_squared_error')\n",
        "    return model"
      ],
      "metadata": {
        "id": "fgKhZnYsRJ3z"
      },
      "execution_count": 53,
      "outputs": []
    },
    {
      "cell_type": "code",
      "source": [
        "num_users"
      ],
      "metadata": {
        "colab": {
          "base_uri": "https://localhost:8080/"
        },
        "id": "2UH9D3bnSl9F",
        "outputId": "b1153954-e0b8-44df-b198-d7056b83ac22"
      },
      "execution_count": 23,
      "outputs": [
        {
          "output_type": "execute_result",
          "data": {
            "text/plain": [
              "610"
            ]
          },
          "metadata": {},
          "execution_count": 23
        }
      ]
    },
    {
      "cell_type": "code",
      "source": [
        "import pandas as pd\n",
        "from sklearn.model_selection import train_test_split\n",
        "from tensorflow.keras.optimizers import Adam\n",
        "from tensorflow.keras.models import Model\n",
        "from tensorflow.keras.layers import Input, Embedding, Flatten, Concatenate, Dense, Dropout\n",
        "from tensorflow.keras.regularizers import l2\n",
        "\n",
        "\n",
        "\n",
        "# Assuming you have unique user and movie IDs, you can map them to integer indices\n",
        "user_mapping = {user_id: idx for idx, user_id in enumerate(df['userId'].unique())}\n",
        "movie_mapping = {movie_id: idx for idx, movie_id in enumerate(df['movieId'].unique())}\n",
        "\n",
        "df['user_idx'] = df['userId'].map(user_mapping)\n",
        "df['movie_idx'] = df['movieId'].map(movie_mapping)\n",
        "\n",
        "# Split the data into training and testing sets\n",
        "train_data, test_data = train_test_split(df, test_size=0.2, random_state=42)\n",
        "\n",
        "# Define the model\n",
        "num_users = len(df['userId'].unique())\n",
        "num_items = len(df['movieId'].unique())\n",
        "embedding_size = 50\n",
        "\n",
        "model = collaborative_filtering_model(num_users, num_items, embedding_size=embedding_size)\n",
        "\n",
        "# Train the model\n",
        "model.fit([train_data['user_idx'], train_data['movie_idx']], train_data['rating'], epochs=10, batch_size=64, validation_split=0.2)\n",
        "\n",
        "# Evaluate the model on the test set\n",
        "test_loss = model.evaluate([test_data['user_idx'], test_data['movie_idx']], test_data['rating'])\n",
        "print(f\"Test Loss: {test_loss}\")\n"
      ],
      "metadata": {
        "colab": {
          "base_uri": "https://localhost:8080/"
        },
        "id": "nUDjkGtKSyXX",
        "outputId": "282abe16-c7a6-4f5d-873e-402e3cf15f5c"
      },
      "execution_count": 56,
      "outputs": [
        {
          "output_type": "stream",
          "name": "stderr",
          "text": [
            "WARNING:absl:`lr` is deprecated in Keras optimizer, please use `learning_rate` or use the legacy optimizer, e.g.,tf.keras.optimizers.legacy.Adam.\n"
          ]
        },
        {
          "output_type": "stream",
          "name": "stdout",
          "text": [
            "Epoch 1/10\n",
            "1009/1009 [==============================] - 10s 9ms/step - loss: 2.5635 - val_loss: 1.0911\n",
            "Epoch 2/10\n",
            "1009/1009 [==============================] - 8s 8ms/step - loss: 1.6108 - val_loss: 1.0601\n",
            "Epoch 3/10\n",
            "1009/1009 [==============================] - 7s 7ms/step - loss: 1.3846 - val_loss: 0.9873\n",
            "Epoch 4/10\n",
            "1009/1009 [==============================] - 9s 8ms/step - loss: 1.2232 - val_loss: 0.9894\n",
            "Epoch 5/10\n",
            "1009/1009 [==============================] - 9s 9ms/step - loss: 1.1068 - val_loss: 0.9695\n",
            "Epoch 6/10\n",
            "1009/1009 [==============================] - 8s 8ms/step - loss: 1.0211 - val_loss: 0.9481\n",
            "Epoch 7/10\n",
            "1009/1009 [==============================] - 8s 8ms/step - loss: 0.9750 - val_loss: 0.9436\n",
            "Epoch 8/10\n",
            "1009/1009 [==============================] - 8s 8ms/step - loss: 0.9398 - val_loss: 0.9475\n",
            "Epoch 9/10\n",
            "1009/1009 [==============================] - 8s 8ms/step - loss: 0.9288 - val_loss: 0.9586\n",
            "Epoch 10/10\n",
            "1009/1009 [==============================] - 9s 8ms/step - loss: 0.9222 - val_loss: 0.9507\n",
            "631/631 [==============================] - 1s 2ms/step - loss: 0.9503\n",
            "Test Loss: 0.9502612352371216\n"
          ]
        }
      ]
    },
    {
      "cell_type": "code",
      "source": [
        "import matplotlib.pyplot as plt\n",
        "\n",
        "# Assuming you've already created and compiled your model\n",
        "model = collaborative_filtering_model(num_users, num_items, embedding_size=50)\n",
        "\n",
        "# Train the model and get the training history\n",
        "history = model.fit([train_data['user_idx'], train_data['movie_idx']], train_data['rating'], epochs=10, batch_size=64, validation_split=0.2)\n",
        "\n",
        "# Plot the training and validation loss\n",
        "plt.plot(history.history['loss'], label='Training Loss')\n",
        "plt.plot(history.history['val_loss'], label='Validation Loss')\n",
        "plt.xlabel('Epoch')\n",
        "plt.ylabel('Loss')\n",
        "plt.legend()\n",
        "plt.show()\n"
      ],
      "metadata": {
        "colab": {
          "base_uri": "https://localhost:8080/",
          "height": 824
        },
        "id": "MOaLLXJ_cB2g",
        "outputId": "6151165d-13b7-489c-8af6-b1327bc9a2dc"
      },
      "execution_count": 58,
      "outputs": [
        {
          "output_type": "stream",
          "name": "stderr",
          "text": [
            "WARNING:absl:`lr` is deprecated in Keras optimizer, please use `learning_rate` or use the legacy optimizer, e.g.,tf.keras.optimizers.legacy.Adam.\n"
          ]
        },
        {
          "output_type": "stream",
          "name": "stdout",
          "text": [
            "Epoch 1/10\n",
            "1009/1009 [==============================] - 22s 19ms/step - loss: 2.3685 - val_loss: 1.1301\n",
            "Epoch 2/10\n",
            "1009/1009 [==============================] - 8s 8ms/step - loss: 1.5258 - val_loss: 1.0396\n",
            "Epoch 3/10\n",
            "1009/1009 [==============================] - 9s 9ms/step - loss: 1.3327 - val_loss: 1.0056\n",
            "Epoch 4/10\n",
            "1009/1009 [==============================] - 8s 8ms/step - loss: 1.2117 - val_loss: 0.9688\n",
            "Epoch 5/10\n",
            "1009/1009 [==============================] - 8s 8ms/step - loss: 1.0995 - val_loss: 0.9629\n",
            "Epoch 6/10\n",
            "1009/1009 [==============================] - 9s 8ms/step - loss: 1.0219 - val_loss: 0.9510\n",
            "Epoch 7/10\n",
            "1009/1009 [==============================] - 8s 8ms/step - loss: 0.9720 - val_loss: 0.9472\n",
            "Epoch 8/10\n",
            "1009/1009 [==============================] - 8s 8ms/step - loss: 0.9424 - val_loss: 0.9420\n",
            "Epoch 9/10\n",
            "1009/1009 [==============================] - 9s 9ms/step - loss: 0.9249 - val_loss: 0.9557\n",
            "Epoch 10/10\n",
            "1009/1009 [==============================] - 8s 8ms/step - loss: 0.9153 - val_loss: 0.9583\n"
          ]
        },
        {
          "output_type": "display_data",
          "data": {
            "text/plain": [
              "<Figure size 640x480 with 1 Axes>"
            ],
            "image/png": "[encoded data removed]"
          },
          "metadata": {}
        }
      ]
    },
    {
      "cell_type": "code",
      "source": [
        "from tensorflow.keras.utils import plot_model\n",
        "\n",
        "# Assuming you've already created and compiled your model\n",
        "model = collaborative_filtering_model(num_users, num_items, embedding_size=50)\n",
        "\n",
        "# Plot the model architecture\n",
        "plot_model(model, to_file='collaborative_filtering_model.png', show_shapes=True, show_layer_names=True)\n"
      ],
      "metadata": {
        "colab": {
          "base_uri": "https://localhost:8080/",
          "height": 994
        },
        "id": "5iIYyEDTYd98",
        "outputId": "0e09f2a7-dffc-4508-a801-fbf61044e60d"
      },
      "execution_count": 57,
      "outputs": [
        {
          "output_type": "stream",
          "name": "stderr",
          "text": [
            "WARNING:absl:`lr` is deprecated in Keras optimizer, please use `learning_rate` or use the legacy optimizer, e.g.,tf.keras.optimizers.legacy.Adam.\n"
          ]
        },
        {
          "output_type": "execute_result",
          "data": {
            "image/png": "[encoded data removed]",
            "text/plain": [
              "<IPython.core.display.Image object>"
            ]
          },
          "metadata": {},
          "execution_count": 57
        }
      ]
    },
    {
      "cell_type": "markdown",
      "source": [
        "#Adding L2 regularzation to user and item"
      ],
      "metadata": {
        "id": "jNwY9gessEa4"
      }
    },
    {
      "cell_type": "markdown",
      "source": [],
      "metadata": {
        "id": "a36bxsgqr_U4"
      }
    },
    {
      "cell_type": "code",
      "source": [
        "def collaborative_filtering_model_dual_regularizer(num_users, num_items, embedding_size=50, reg=0.01):\n",
        "    user_input = Input(shape=(1,), name='user_input')\n",
        "    item_input = Input(shape=(1,), name='item_input')\n",
        "\n",
        "    user_embedding = Embedding(input_dim=num_users, output_dim=embedding_size, input_length=1, embeddings_regularizer=l2(reg))(user_input)\n",
        "    item_embedding = Embedding(input_dim=num_items, output_dim=embedding_size, input_length=1, embeddings_regularizer=l2(reg))(item_input)\n",
        "\n",
        "    user_flat = Flatten()(user_embedding)\n",
        "    item_flat = Flatten()(item_embedding)\n",
        "\n",
        "    concatenated = Concatenate()([user_flat, item_flat])\n",
        "\n",
        "    dense_1 = Dense(64, activation='relu')(concatenated)\n",
        "    dropout_1 = Dropout(0.5)(dense_1)\n",
        "\n",
        "    dense_2 = Dense(32, activation='relu')(dropout_1)\n",
        "    dropout_2 = Dropout(0.5)(dense_2)\n",
        "\n",
        "    output = Dense(1, activation='linear')(dropout_2)\n",
        "\n",
        "    model = Model(inputs=[user_input, item_input], outputs=output)\n",
        "    model.compile(optimizer=Adam(lr=0.01), loss='mean_squared_error')\n",
        "    return model\n"
      ],
      "metadata": {
        "id": "ZUTENQTZbrCP"
      },
      "execution_count": 60,
      "outputs": []
    },
    {
      "cell_type": "code",
      "source": [
        "regularazed_model = collaborative_filtering_model_dual_regularizer(num_users, num_items, embedding_size=embedding_size, reg=0.01)\n"
      ],
      "metadata": {
        "colab": {
          "base_uri": "https://localhost:8080/"
        },
        "id": "_x98S5Xul-ni",
        "outputId": "09d26617-83eb-41e8-ef13-b5ce1acd80c6"
      },
      "execution_count": 63,
      "outputs": [
        {
          "output_type": "stream",
          "name": "stderr",
          "text": [
            "WARNING:absl:`lr` is deprecated in Keras optimizer, please use `learning_rate` or use the legacy optimizer, e.g.,tf.keras.optimizers.legacy.Adam.\n"
          ]
        }
      ]
    },
    {
      "cell_type": "code",
      "source": [
        "# Train the model\n",
        "regularazed_model.fit([train_data['user_idx'], train_data['movie_idx']], train_data['rating'], epochs=10, batch_size=64, validation_split=0.2)\n",
        "\n",
        "# Evaluate the model on the test set\n",
        "test_loss = regularazed_model.evaluate([test_data['user_idx'], test_data['movie_idx']], test_data['rating'])\n",
        "print(f\"Test Loss: {test_loss}\")\n"
      ],
      "metadata": {
        "colab": {
          "base_uri": "https://localhost:8080/"
        },
        "id": "lZUlEMf4mECS",
        "outputId": "2b3672fc-423f-44c2-b05d-3233a0f12826"
      },
      "execution_count": 64,
      "outputs": [
        {
          "output_type": "stream",
          "name": "stdout",
          "text": [
            "Epoch 1/10\n",
            "1009/1009 [==============================] - 9s 8ms/step - loss: 2.4899 - val_loss: 1.1229\n",
            "Epoch 2/10\n",
            "1009/1009 [==============================] - 9s 9ms/step - loss: 1.6045 - val_loss: 1.0253\n",
            "Epoch 3/10\n",
            "1009/1009 [==============================] - 9s 9ms/step - loss: 1.3782 - val_loss: 1.0123\n",
            "Epoch 4/10\n",
            "1009/1009 [==============================] - 8s 8ms/step - loss: 1.2148 - val_loss: 0.9788\n",
            "Epoch 5/10\n",
            "1009/1009 [==============================] - 8s 8ms/step - loss: 1.1051 - val_loss: 0.9682\n",
            "Epoch 6/10\n",
            "1009/1009 [==============================] - 8s 8ms/step - loss: 1.0304 - val_loss: 0.9595\n",
            "Epoch 7/10\n",
            "1009/1009 [==============================] - 7s 7ms/step - loss: 0.9842 - val_loss: 0.9535\n",
            "Epoch 8/10\n",
            "1009/1009 [==============================] - 9s 9ms/step - loss: 0.9503 - val_loss: 0.9551\n",
            "Epoch 9/10\n",
            "1009/1009 [==============================] - 10s 10ms/step - loss: 0.9300 - val_loss: 0.9570\n",
            "Epoch 10/10\n",
            "1009/1009 [==============================] - 7s 7ms/step - loss: 0.9192 - val_loss: 0.9417\n",
            "631/631 [==============================] - 1s 2ms/step - loss: 0.9405\n",
            "Test Loss: 0.9404996037483215\n"
          ]
        }
      ]
    },
    {
      "cell_type": "code",
      "source": [
        "history = regularazed_model.fit([train_data['user_idx'], train_data['movie_idx']], train_data['rating'], epochs=10, batch_size=64, validation_split=0.2)\n",
        "\n",
        "# Plot the training and validation loss\n",
        "plt.plot(history.history['loss'], label='Training Loss')\n",
        "plt.plot(history.history['val_loss'], label='Validation Loss')\n",
        "plt.xlabel('Epoch')\n",
        "plt.ylabel('Loss')\n",
        "plt.legend()\n",
        "plt.show()\n"
      ],
      "metadata": {
        "colab": {
          "base_uri": "https://localhost:8080/",
          "height": 806
        },
        "id": "GUTfDsRumTNA",
        "outputId": "4bce4d4d-c2b7-4617-f1d3-1e6367ab8b8c"
      },
      "execution_count": 65,
      "outputs": [
        {
          "output_type": "stream",
          "name": "stdout",
          "text": [
            "Epoch 1/10\n",
            "1009/1009 [==============================] - 12s 12ms/step - loss: 0.9161 - val_loss: 0.9612\n",
            "Epoch 2/10\n",
            "1009/1009 [==============================] - 8s 8ms/step - loss: 0.9099 - val_loss: 0.9574\n",
            "Epoch 3/10\n",
            "1009/1009 [==============================] - 8s 8ms/step - loss: 0.9048 - val_loss: 0.9556\n",
            "Epoch 4/10\n",
            "1009/1009 [==============================] - 9s 9ms/step - loss: 0.9039 - val_loss: 0.9464\n",
            "Epoch 5/10\n",
            "1009/1009 [==============================] - 9s 9ms/step - loss: 0.9038 - val_loss: 0.9540\n",
            "Epoch 6/10\n",
            "1009/1009 [==============================] - 9s 8ms/step - loss: 0.9018 - val_loss: 0.9440\n",
            "Epoch 7/10\n",
            "1009/1009 [==============================] - 9s 9ms/step - loss: 0.8976 - val_loss: 0.9411\n",
            "Epoch 8/10\n",
            "1009/1009 [==============================] - 9s 9ms/step - loss: 0.8972 - val_loss: 0.9437\n",
            "Epoch 9/10\n",
            "1009/1009 [==============================] - 8s 7ms/step - loss: 0.8990 - val_loss: 0.9528\n",
            "Epoch 10/10\n",
            "1009/1009 [==============================] - 9s 9ms/step - loss: 0.8972 - val_loss: 0.9411\n"
          ]
        },
        {
          "output_type": "display_data",
          "data": {
            "text/plain": [
              "<Figure size 640x480 with 1 Axes>"
            ],
            "image/png": "[encoded data removed]"
          },
          "metadata": {}
        }
      ]
    },
    {
      "cell_type": "code",
      "source": [],
      "metadata": {
        "id": "V2Ldv0akosnY"
      },
      "execution_count": null,
      "outputs": []
    }
  ]
}